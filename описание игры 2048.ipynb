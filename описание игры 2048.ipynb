{
 "cells": [
  {
   "cell_type": "code",
   "execution_count": null,
   "metadata": {},
   "outputs": [],
   "source": [
    "Суть игры 2048: есть поле 4*4, изначально 2 рандомные ячейки из 16 заполнены двойкой и четверкой. Ход игрока = нажатие одной из \n",
    "клавиш: вверх, вниз, вправо, влево и добвление одной цифры в рандомную ячейку: двойки (с вероятностью 80%) или четверки (20%). \n",
    "Если 2 ячейки, принадлежащие одной строке или одному столбцу имеют одинаковые значения и между ними нет другой заполненной ячейки \n",
    "(например [2, 2, 0, 0] или [2, 0, 2, 2] или [2, 0, 2, 16]), то при нажатии клавиш влево/вправо (если они в строке) или вверх/вниз \n",
    "(если они в столбце) - две одинаковые ячейки схлопываются в одну с удвоенным значением: в самую правую, если был сделан ход \n",
    "направо, в самую верхнюю - если ход был сделан вверх и т.д. Таким образом могут быть получены ячейки 4, 8, 16, 32, 64, ... 2048,\n",
    "4096 и т.д., то есть - степени двойки. Цель оригинальной игры: получить значение 2048 в одной ячейке, то есть 2^11. \n",
    "В моей версии игры нет определенной цели, главное - набрать как можно большее число в ячейке и общую сумму за раунд."
   ]
  },
  {
   "cell_type": "code",
   "execution_count": null,
   "metadata": {},
   "outputs": [],
   "source": [
    "В самом начале игры в двух рандомных клетках появляются двойка и четверка с вероятностями 80% и 20% сооответственно:"
   ]
  },
  {
   "cell_type": "code",
   "execution_count": null,
   "metadata": {},
   "outputs": [],
   "source": [
    "def insert_2_or_4(l,x,y):        #функция, вставляющая двойку или четверку в массив\n",
    "    if random.random()<=0.8:    #так как в оригинальной игре двойка выпадает чаще, чем четверка, увеличим вероятность выпадения двойки с 50% до 80%\n",
    "        l[x][y] = 2\n",
    "    else:\n",
    "        l[x][y] = 4\n",
    "    return l"
   ]
  },
  {
   "cell_type": "code",
   "execution_count": null,
   "metadata": {},
   "outputs": [],
   "source": [
    "Так как в моей игре основа - это двумерный массив, чтобы ориентироваться в нем, нужно пронумеровать все ячейки по их индексу,\n",
    "для этого можно использовать функцию:"
   ]
  },
  {
   "cell_type": "code",
   "execution_count": null,
   "metadata": {},
   "outputs": [],
   "source": [
    "def get_number_from_index(i, j): #функция, которая принимает номер строки и номер столбцами возвращает порядковый номер элемента\n",
    "    return i * 4 + j + 1\n",
    "#а также обратную ей:\n",
    "def get_index_from_number(num):  #функция, которая по числу выдает координаты ячейки\n",
    "    num -= 1\n",
    "    x,y = num // 4, num % 4\n",
    "    return x,y"
   ]
  },
  {
   "cell_type": "code",
   "execution_count": null,
   "metadata": {},
   "outputs": [],
   "source": [
    "Движение ячеек в основном построены с помощью методов списков, для примера, функция движения влево:"
   ]
  },
  {
   "cell_type": "code",
   "execution_count": null,
   "metadata": {},
   "outputs": [],
   "source": [
    "def move_left(l):\n",
    "    delta = 0 #переменная, обозначающая изменения\n",
    "    for row in l:\n",
    "        while 0 in row:\n",
    "            row.remove(0)\n",
    "        while len(row) != 4:\n",
    "            row.append(0)\n",
    "    for i in range(4):\n",
    "        for j in range(3):\n",
    "            if l[i][j] == l[i][j + 1] and l[i][j] != 0:\n",
    "                l[i][j] *= 2\n",
    "                delta += l[i][j] #каждый раз, когда две ячейки складываются в одну, delta записывает в себя значение получившейся ячейки\n",
    "                l[i].pop(j + 1)\n",
    "                l[i].append(0)\n",
    "    return l, delta"
   ]
  },
  {
   "cell_type": "code",
   "execution_count": null,
   "metadata": {},
   "outputs": [],
   "source": [
    "Также, в игре есть много интересных деталей: \n",
    "1) intro - приветствие игрока, где он может ввести свое имя, чтобы если он побьет рекорд его результат сохранился, \n",
    "а следовательно - \n",
    "2) база данных, куда сохраняются и где сортируются от большего к меньшему результаты, написанная с помощью SQL и приложения \n",
    "DB Browser for SQLite. Чтобы было, что сортировать, конечно есть -\n",
    "3) текущий счет игрока: score - общая сумма всех суммированных ячеек, по ней и устанавливается рекорд, а в конце игры есть\n",
    "4) outro - появляется, если выхода из массива нет: все ячейки заполнены и двигаться некуда, игроку показывается его счет и\n",
    "пометка, побил ли он рекорд."
   ]
  },
  {
   "cell_type": "code",
   "execution_count": null,
   "metadata": {},
   "outputs": [],
   "source": [
    "Далее пример логики intro:"
   ]
  },
  {
   "cell_type": "code",
   "execution_count": null,
   "metadata": {},
   "outputs": [],
   "source": [
    "#обработка текста после приветствия:\n",
    "Если нажата кнопка, которая отвечает за буквы (обозначает букву), то мы добавляем букву\n",
    "Если нажат backspace, то удаляется последний элемент строки"
   ]
  },
  {
   "cell_type": "code",
   "execution_count": null,
   "metadata": {},
   "outputs": [],
   "source": [
    "for event in pygame.event.get():\n",
    "    if event.type == pygame.QUIT:\n",
    "        pygame.quit()\n",
    "        sys.exit(0)"
   ]
  },
  {
   "cell_type": "code",
   "execution_count": null,
   "metadata": {},
   "outputs": [],
   "source": [
    "если нажата буква, то к строке добавляем букву:"
   ]
  },
  {
   "cell_type": "code",
   "execution_count": null,
   "metadata": {},
   "outputs": [],
   "source": [
    "        elif event.type == pygame.KEYDOWN:   #если мы нажали на клавиатуру\n",
    "            if event.unicode.isalpha():\n",
    "                if name == 'Введите имя':\n",
    "                    name = event.unicode  #если name == вв. имя, то ввод начинается с нуля\n",
    "                else:\n",
    "                    name += event.unicode  #если name != вв. имя, то просто добавляем букву"
   ]
  },
  {
   "cell_type": "code",
   "execution_count": null,
   "metadata": {},
   "outputs": [],
   "source": [
    "если нажат backspace, то есть удаляется последний элемент строки, используем срезы списков:"
   ]
  },
  {
   "cell_type": "code",
   "execution_count": null,
   "metadata": {},
   "outputs": [],
   "source": [
    "elif event.key == pygame.K_BACKSPACE:\n",
    "    name = name[:-1]"
   ]
  },
  {
   "cell_type": "code",
   "execution_count": null,
   "metadata": {},
   "outputs": [],
   "source": [
    "Если нажата клавиша enter, то программа должна проверять: ввел ли игрок имя\n",
    "Если длина строки, введенной пользователем больше двух элементов, то все хорошо, глобальная переменная с изначальным названием \n",
    "None принимает значение этой строки и получается имя пользователя"
   ]
  },
  {
   "cell_type": "code",
   "execution_count": null,
   "metadata": {},
   "outputs": [],
   "source": [
    "elif event.key == pygame.K_RETURN:\n",
    "    if len(name) > 2:\n",
    "        global USERNAME\n",
    "        USERNAME = name"
   ]
  }
 ],
 "metadata": {
  "kernelspec": {
   "display_name": "Python 3",
   "language": "python",
   "name": "python3"
  },
  "language_info": {
   "codemirror_mode": {
    "name": "ipython",
    "version": 3
   },
   "file_extension": ".py",
   "mimetype": "text/x-python",
   "name": "python",
   "nbconvert_exporter": "python",
   "pygments_lexer": "ipython3",
   "version": "3.9.0"
  }
 },
 "nbformat": 4,
 "nbformat_minor": 4
}
